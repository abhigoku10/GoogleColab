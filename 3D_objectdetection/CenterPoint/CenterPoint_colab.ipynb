{
  "nbformat": 4,
  "nbformat_minor": 0,
  "metadata": {
    "accelerator": "GPU",
    "colab": {
      "name": "CenterPoint_colab.ipynb",
      "provenance": [],
      "collapsed_sections": []
    },
    "kernelspec": {
      "display_name": "Python 3",
      "name": "python3"
    }
  },
  "cells": [
    {
      "cell_type": "code",
      "metadata": {
        "id": "GQjtg6fBiddc"
      },
      "source": [
        "\n",
        "# ##Installing the package for colab connecting to the server \n",
        "# !pip install colabcode &> /dev/null"
      ],
      "execution_count": null,
      "outputs": []
    },
    {
      "cell_type": "code",
      "metadata": {
        "id": "nFbOmkHLFaV4"
      },
      "source": [
        "# ## Default port and password setting \n",
        "# from colabcode import ColabCode\n",
        "# ColabCode(port=10000, password=\"password123\")"
      ],
      "execution_count": null,
      "outputs": []
    },
    {
      "cell_type": "code",
      "metadata": {
        "id": "iJVU6JvwFYDM",
        "colab": {
          "base_uri": "https://localhost:8080/"
        },
        "outputId": "96634075-e57a-4ca3-9745-919dddbbcc84"
      },
      "source": [
        "from google.colab import drive\n",
        "drive.mount('/content/drive')"
      ],
      "execution_count": null,
      "outputs": [
        {
          "output_type": "stream",
          "text": [
            "Mounted at /content/drive\n"
          ],
          "name": "stdout"
        }
      ]
    },
    {
      "cell_type": "code",
      "metadata": {
        "id": "ByPYq_t-ifpp",
        "colab": {
          "base_uri": "https://localhost:8080/"
        },
        "outputId": "e1149733-c711-49fc-b603-ac66e27c015e"
      },
      "source": [
        "## To check the cuda version default availabe \n",
        "!nvidia-smi  "
      ],
      "execution_count": null,
      "outputs": [
        {
          "output_type": "stream",
          "text": [
            "Wed Mar 10 05:18:24 2021       \n",
            "+-----------------------------------------------------------------------------+\n",
            "| NVIDIA-SMI 460.56       Driver Version: 460.32.03    CUDA Version: 11.2     |\n",
            "|-------------------------------+----------------------+----------------------+\n",
            "| GPU  Name        Persistence-M| Bus-Id        Disp.A | Volatile Uncorr. ECC |\n",
            "| Fan  Temp  Perf  Pwr:Usage/Cap|         Memory-Usage | GPU-Util  Compute M. |\n",
            "|                               |                      |               MIG M. |\n",
            "|===============================+======================+======================|\n",
            "|   0  Tesla T4            Off  | 00000000:00:04.0 Off |                    0 |\n",
            "| N/A   40C    P8    10W /  70W |      0MiB / 15109MiB |      0%      Default |\n",
            "|                               |                      |                  N/A |\n",
            "+-------------------------------+----------------------+----------------------+\n",
            "                                                                               \n",
            "+-----------------------------------------------------------------------------+\n",
            "| Processes:                                                                  |\n",
            "|  GPU   GI   CI        PID   Type   Process name                  GPU Memory |\n",
            "|        ID   ID                                                   Usage      |\n",
            "|=============================================================================|\n",
            "|  No running processes found                                                 |\n",
            "+-----------------------------------------------------------------------------+\n"
          ],
          "name": "stdout"
        }
      ]
    },
    {
      "cell_type": "code",
      "metadata": {
        "id": "k-YucrcLih8T",
        "colab": {
          "base_uri": "https://localhost:8080/"
        },
        "outputId": "95564315-e859-4a12-dae2-0c845c2be661"
      },
      "source": [
        "## To check the python version default availabe \n",
        "!python --version\n"
      ],
      "execution_count": null,
      "outputs": [
        {
          "output_type": "stream",
          "text": [
            "Python 3.7.10\n"
          ],
          "name": "stdout"
        }
      ]
    },
    {
      "cell_type": "code",
      "metadata": {
        "id": "21D1C5Cvdai1"
      },
      "source": [
        "###Installating pytorch using wheel \n",
        "!pip install https://download.pytorch.org/whl/cu100/torchvision-0.4.1%2Bcu100-cp37-cp37m-linux_x86_64.whl &> /dev/null"
      ],
      "execution_count": null,
      "outputs": []
    },
    {
      "cell_type": "code",
      "metadata": {
        "id": "Dy_O6BklqUiL"
      },
      "source": [
        "####Installing pytorch and cuda using wheel with auto selection \n",
        "\n",
        "### wheel checking link :  https://download.pytorch.org/whl/torch_stable.html\n",
        "#### version checking link : https://pytorch.org/get-started/previous-versions/\n",
        "\n",
        "# !pip3 install torch==1.3.1+cu100  -f https://download.pytorch.org/whl/torch_stable.html &> /dev/null"
      ],
      "execution_count": null,
      "outputs": []
    },
    {
      "cell_type": "code",
      "metadata": {
        "id": "m-067uZciknr",
        "colab": {
          "base_uri": "https://localhost:8080/"
        },
        "outputId": "3f699230-5439-42e2-f22d-bb4dbbbb39bc"
      },
      "source": [
        "##To change the pytorch version from default to existing one \n",
        "import torch\n",
        "print(torch.__version__)"
      ],
      "execution_count": null,
      "outputs": [
        {
          "output_type": "stream",
          "text": [
            "1.3.0\n"
          ],
          "name": "stdout"
        }
      ]
    },
    {
      "cell_type": "markdown",
      "metadata": {
        "id": "ptrwwhzwtMeD"
      },
      "source": [
        "Alternate method of installing specific version of cuda and pytorch on google colab "
      ]
    },
    {
      "cell_type": "code",
      "metadata": {
        "id": "zDZaSZc4mw4i"
      },
      "source": [
        "# # #Uninstall the current CUDA version\n",
        "# !apt-get --purge remove cuda nvidia* libnvidia-*\n",
        "# !dpkg -l | grep cuda- | awk '{print $2}' | xargs -n1 dpkg --purge\n",
        "# !apt-get remove cuda-*\n",
        "# !apt autoremove\n",
        "# !apt-get update"
      ],
      "execution_count": null,
      "outputs": []
    },
    {
      "cell_type": "code",
      "metadata": {
        "id": "2tiG5-8inXal"
      },
      "source": [
        "# # #Download CUDA 10.0\n",
        "# !wget  --no-clobber https://developer.download.nvidia.com/compute/cuda/repos/ubuntu1804/x86_64/cuda-repo-ubuntu1804_10.0.130-1_amd64.deb\n",
        "# #install CUDA kit dpkg\n",
        "# !dpkg -i cuda-repo-ubuntu1804_10.0.130-1_amd64.deb\n",
        "# !sudo apt-key adv --fetch-keys https://developer.download.nvidia.com/compute/cuda/repos/ubuntu1804/x86_64/7fa2af80.pub\n",
        "# !apt-get update\n",
        "# !apt-get install cuda-10-0"
      ],
      "execution_count": null,
      "outputs": []
    },
    {
      "cell_type": "code",
      "metadata": {
        "id": "Tf_w6nOZnb_J"
      },
      "source": [
        "# # #Slove libcurand.so.10 error\n",
        "# !wget --no-clobber http://developer.download.nvidia.com/compute/machine-learning/repos/ubuntu1804/x86_64/nvidia-machine-learning-repo-ubuntu1804_1.0.0-1_amd64.deb\n",
        "# #-nc, --no-clobber: skip downloads that would download to existing files.\n",
        "# !apt install ./nvidia-machine-learning-repo-ubuntu1804_1.0.0-1_amd64.deb\n",
        "# !apt-get update"
      ],
      "execution_count": null,
      "outputs": []
    },
    {
      "cell_type": "code",
      "metadata": {
        "id": "nNZSCJrXngPx",
        "colab": {
          "base_uri": "https://localhost:8080/"
        },
        "outputId": "6a33c590-63e3-402b-fd07-0af4d81dfaae"
      },
      "source": [
        "# Check cuda version\n",
        "!nvcc --version"
      ],
      "execution_count": null,
      "outputs": [
        {
          "output_type": "stream",
          "text": [
            "nvcc: NVIDIA (R) Cuda compiler driver\n",
            "Copyright (c) 2005-2020 NVIDIA Corporation\n",
            "Built on Wed_Jul_22_19:09:09_PDT_2020\n",
            "Cuda compilation tools, release 11.0, V11.0.221\n",
            "Build cuda_11.0_bu.TC445_37.28845127_0\n"
          ],
          "name": "stdout"
        }
      ]
    },
    {
      "cell_type": "code",
      "metadata": {
        "colab": {
          "base_uri": "https://localhost:8080/"
        },
        "id": "tQwLRtKSf1VZ",
        "outputId": "21859961-5ce8-4aa7-88ff-91f2d286d1d1"
      },
      "source": [
        "##Installation of the Nvidia apex  package \n",
        "\n",
        "!git clone https://github.com/NVIDIA/apex\n",
        "%cd apex\n",
        "!git checkout 5633f6  # recent commit doesn't build in our system \n",
        "!pip install -v --no-cache-dir --global-option=\"--cpp_ext\" --global-option=\"--cuda_ext\" ./ &> /dev/null"
      ],
      "execution_count": null,
      "outputs": [
        {
          "output_type": "stream",
          "text": [
            "Cloning into 'apex'...\n",
            "remote: Enumerating objects: 7910, done.\u001b[K\n",
            "remote: Total 7910 (delta 0), reused 0 (delta 0), pack-reused 7910\u001b[K\n",
            "Receiving objects: 100% (7910/7910), 13.99 MiB | 28.48 MiB/s, done.\n",
            "Resolving deltas: 100% (5396/5396), done.\n",
            "/content/apex\n",
            "Note: checking out '5633f6'.\n",
            "\n",
            "You are in 'detached HEAD' state. You can look around, make experimental\n",
            "changes and commit them, and you can discard any commits you make in this\n",
            "state without impacting any branches by performing another checkout.\n",
            "\n",
            "If you want to create a new branch to retain commits you create, you may\n",
            "do so (now or later) by using -b with the checkout command again. Example:\n",
            "\n",
            "  git checkout -b <new-branch-name>\n",
            "\n",
            "HEAD is now at 5633f6d Revert \"remove gencode from multihead_attn build (#731)\"\n"
          ],
          "name": "stdout"
        }
      ]
    },
    {
      "cell_type": "code",
      "metadata": {
        "id": "LGWTOHk_m5XR",
        "colab": {
          "base_uri": "https://localhost:8080/"
        },
        "outputId": "0cd3c1b0-654c-495a-873f-edfab199016b"
      },
      "source": [
        "%cd /content/"
      ],
      "execution_count": null,
      "outputs": [
        {
          "output_type": "stream",
          "text": [
            "/content\n"
          ],
          "name": "stdout"
        }
      ]
    },
    {
      "cell_type": "code",
      "metadata": {
        "id": "O9y0D24xVxHl"
      },
      "source": [
        "# !add-apt-repository ppa:deadsnakes/ppa\n",
        "# !apt-get update\n",
        "# !apt-get install python3.6\n",
        "# !apt-get install python3.6-dev\n",
        "\n",
        "# !wget https://bootstrap.pypa.io/get-pip.py && python3.6 get-pip.py\n",
        "# !python --version"
      ],
      "execution_count": null,
      "outputs": []
    },
    {
      "cell_type": "code",
      "metadata": {
        "id": "-t_YcKmDjDFl",
        "colab": {
          "base_uri": "https://localhost:8080/"
        },
        "outputId": "f31a6772-e297-42ea-bd69-85a3ca5b0dc0"
      },
      "source": [
        "### Installation of spconv \n",
        "###https://gitmemory.com/issue/traveller59/spconv/152/666163920\n",
        "\n",
        "!pip3 install cmake --upgrade && PROBLEM_FILE=/usr/local/lib/python3.7/dist-packages/torch/share/cmake/Caffe2/Caffe2Targets.cmake && \\\n",
        "    sed -i 's/-Wall;-Wextra;-Wno-unused-parameter;-Wno-missing-field-initializers;-Wno-write-strings;-Wno-unknown-pragmas;-Wno-missing-braces;-fopenmp//g' $PROBLEM_FILE && \\\n",
        "    sed -i 's/-Wall;-Wextra;-Wno-unused-parameter;-Wno-missing-field-initializers;-Wno-write-strings;-Wno-unknown-pragmas;-Wno-missing-braces//g' $PROBLEM_FILE && \\\n",
        "  rm -rf spconv && git clone https://github.com/traveller59/spconv --recursive && cd ./spconv && python setup.py bdist_wheel &> /dev/null # install . #&> /dev/null"
      ],
      "execution_count": null,
      "outputs": [
        {
          "output_type": "stream",
          "text": [
            "Collecting cmake\n",
            "\u001b[?25l  Downloading https://files.pythonhosted.org/packages/bb/c5/9a07d851bf8356dba2871f141f3e5e8d390995687be20316041a1e564d4c/cmake-3.18.4.post1-py3-none-manylinux1_x86_64.whl (17.7MB)\n",
            "\u001b[K     |████████████████████████████████| 17.7MB 201kB/s \n",
            "\u001b[?25hInstalling collected packages: cmake\n",
            "  Found existing installation: cmake 3.12.0\n",
            "    Uninstalling cmake-3.12.0:\n",
            "      Successfully uninstalled cmake-3.12.0\n",
            "Successfully installed cmake-3.18.4.post1\n",
            "Cloning into 'spconv'...\n",
            "remote: Enumerating objects: 5, done.\u001b[K\n",
            "remote: Counting objects: 100% (5/5), done.\u001b[K\n",
            "remote: Compressing objects: 100% (5/5), done.\u001b[K\n",
            "remote: Total 1041 (delta 0), reused 2 (delta 0), pack-reused 1036\u001b[K\n",
            "Receiving objects: 100% (1041/1041), 2.16 MiB | 29.89 MiB/s, done.\n",
            "Resolving deltas: 100% (701/701), done.\n",
            "Submodule 'third_party/cutlass' (https://github.com/NVIDIA/cutlass) registered for path 'third_party/cutlass'\n",
            "Submodule 'third_party/mp11' (https://github.com/boostorg/mp11) registered for path 'third_party/mp11'\n",
            "Submodule 'third_party/pybind11' (https://github.com/pybind/pybind11.git) registered for path 'third_party/pybind11'\n",
            "Cloning into '/content/spconv/third_party/cutlass'...\n",
            "remote: Enumerating objects: 952, done.        \n",
            "remote: Counting objects: 100% (952/952), done.        \n",
            "remote: Compressing objects: 100% (429/429), done.        \n",
            "remote: Total 11772 (delta 536), reused 701 (delta 507), pack-reused 10820        \n",
            "Receiving objects: 100% (11772/11772), 17.09 MiB | 26.97 MiB/s, done.\n",
            "Resolving deltas: 100% (8219/8219), done.\n",
            "Cloning into '/content/spconv/third_party/mp11'...\n",
            "remote: Enumerating objects: 11, done.        \n",
            "remote: Counting objects: 100% (11/11), done.        \n",
            "remote: Compressing objects: 100% (7/7), done.        \n",
            "remote: Total 4060 (delta 4), reused 10 (delta 4), pack-reused 4049        \n",
            "Receiving objects: 100% (4060/4060), 777.51 KiB | 22.87 MiB/s, done.\n",
            "Resolving deltas: 100% (2667/2667), done.\n",
            "Cloning into '/content/spconv/third_party/pybind11'...\n",
            "remote: Enumerating objects: 11, done.        \n",
            "remote: Counting objects: 100% (11/11), done.        \n",
            "remote: Compressing objects: 100% (10/10), done.        \n",
            "remote: Total 14585 (delta 2), reused 5 (delta 0), pack-reused 14574        \n",
            "Receiving objects: 100% (14585/14585), 5.93 MiB | 27.72 MiB/s, done.\n",
            "Resolving deltas: 100% (9875/9875), done.\n",
            "Submodule path 'third_party/cutlass': checked out 'c2b80ad4e4f8b60a65500bd04c8fecddff2ba355'\n",
            "Submodule path 'third_party/mp11': checked out '29764aad4881fde809af6a025c12012e47a55515'\n",
            "Submodule path 'third_party/pybind11': checked out '3b1dbebabc801c9cf6f0953a4c20b904d444f879'\n",
            "Submodule 'tools/clang' (https://github.com/wjakob/clang-cindex-python3) registered for path 'third_party/pybind11/tools/clang'\n",
            "Cloning into '/content/spconv/third_party/pybind11/tools/clang'...\n",
            "remote: Enumerating objects: 13, done.        \n",
            "remote: Counting objects: 100% (13/13), done.        \n",
            "remote: Compressing objects: 100% (12/12), done.        \n",
            "remote: Total 368 (delta 3), reused 6 (delta 1), pack-reused 355        \n",
            "Receiving objects: 100% (368/368), 159.34 KiB | 17.70 MiB/s, done.\n",
            "Resolving deltas: 100% (154/154), done.\n",
            "Submodule path 'third_party/pybind11/tools/clang': checked out '6a00cbc4a9b8e68b71caf7f774b3f9c753ae84d5'\n"
          ],
          "name": "stdout"
        }
      ]
    },
    {
      "cell_type": "code",
      "metadata": {
        "id": "k9pGOtmaJ23n",
        "colab": {
          "base_uri": "https://localhost:8080/"
        },
        "outputId": "43f4985f-ff03-4209-bc9c-9171ea18e693"
      },
      "source": [
        "%cd /content/spconv/dist\n",
        "!pip3 install spconv-1.2.1-cp37-cp37m-linux_x86_64.whl"
      ],
      "execution_count": null,
      "outputs": [
        {
          "output_type": "stream",
          "text": [
            "/content/spconv/dist\n",
            "Processing ./spconv-1.2.1-cp37-cp37m-linux_x86_64.whl\n",
            "Installing collected packages: spconv\n",
            "Successfully installed spconv-1.2.1\n"
          ],
          "name": "stdout"
        }
      ]
    },
    {
      "cell_type": "code",
      "metadata": {
        "id": "Gb0EtsZNH-nX",
        "colab": {
          "base_uri": "https://localhost:8080/"
        },
        "outputId": "91b5acb2-8efe-4efa-f7b4-4b0c4f0f83e3"
      },
      "source": [
        "import spconv\n",
        "spconv.__path__"
      ],
      "execution_count": null,
      "outputs": [
        {
          "output_type": "execute_result",
          "data": {
            "text/plain": [
              "['/usr/local/lib/python3.7/dist-packages/spconv']"
            ]
          },
          "metadata": {
            "tags": []
          },
          "execution_count": 18
        }
      ]
    },
    {
      "cell_type": "code",
      "metadata": {
        "id": "teUSAc8dnYL5",
        "colab": {
          "base_uri": "https://localhost:8080/"
        },
        "outputId": "502de2ea-53b6-457e-ccfd-3e61a9bfb50e"
      },
      "source": [
        "%cd /content/"
      ],
      "execution_count": null,
      "outputs": [
        {
          "output_type": "stream",
          "text": [
            "/content\n"
          ],
          "name": "stdout"
        }
      ]
    },
    {
      "cell_type": "code",
      "metadata": {
        "id": "5B8wcV0Diml6"
      },
      "source": [
        "### authors git \n",
        "# \n",
        "!git clone https://github.com/tianweiy/CenterPoint.git"
      ],
      "execution_count": null,
      "outputs": []
    },
    {
      "cell_type": "code",
      "metadata": {
        "id": "EV8DPPOM6qSH"
      },
      "source": [
        "# !rm -rf Centerpoint_PC"
      ],
      "execution_count": null,
      "outputs": []
    },
    {
      "cell_type": "code",
      "metadata": {
        "id": "beDDvBlSve_B",
        "colab": {
          "base_uri": "https://localhost:8080/"
        },
        "outputId": "0d0efdcb-0bf5-46b1-f542-92580fc524f1"
      },
      "source": [
        "!ls\n"
      ],
      "execution_count": null,
      "outputs": [
        {
          "output_type": "stream",
          "text": [
            "apex  Centerpoint_PC  drive  sample_data  spconv\n"
          ],
          "name": "stdout"
        }
      ]
    },
    {
      "cell_type": "code",
      "metadata": {
        "id": "afx9pEfHZqp0",
        "colab": {
          "base_uri": "https://localhost:8080/"
        },
        "outputId": "556c193f-6c52-461b-d168-c7e6d82b825c"
      },
      "source": [
        "%cd /content/CenterPoint/"
      ],
      "execution_count": null,
      "outputs": [
        {
          "output_type": "stream",
          "text": [
            "/content/Centerpoint_PC\n"
          ],
          "name": "stdout"
        }
      ]
    },
    {
      "cell_type": "code",
      "metadata": {
        "id": "ZL2XXA7SvodC"
      },
      "source": [
        "#!bash setup.sh"
      ],
      "execution_count": null,
      "outputs": []
    },
    {
      "cell_type": "code",
      "metadata": {
        "id": "GU3tk6Wva6ZM",
        "colab": {
          "base_uri": "https://localhost:8080/"
        },
        "outputId": "75c7d3c9-86ce-4ba5-9020-686745e61044"
      },
      "source": [
        "%cd /content/CenterPoint/det3d/ops/dcn\n",
        "!python3 setup.py build_ext --inplace &> /dev/null"
      ],
      "execution_count": null,
      "outputs": [
        {
          "output_type": "stream",
          "text": [
            "/content/Centerpoint_PC/det3d/ops/dcn\n"
          ],
          "name": "stdout"
        }
      ]
    },
    {
      "cell_type": "code",
      "metadata": {
        "id": "y7crX9-_wLSt"
      },
      "source": [
        "# ! export PYTHONPATH='/content/CenterPoint_PC'"
      ],
      "execution_count": null,
      "outputs": []
    },
    {
      "cell_type": "code",
      "metadata": {
        "id": "CDow6cw9bIs4",
        "colab": {
          "base_uri": "https://localhost:8080/"
        },
        "outputId": "5f34af64-ff1e-4031-a9b5-f359a5ff9121"
      },
      "source": [
        "%cd /content/CenterPoint/det3d/ops/iou3d_nms\n",
        "!python3 setup.py build_ext --inplace &> /dev/null"
      ],
      "execution_count": null,
      "outputs": [
        {
          "output_type": "stream",
          "text": [
            "/content/Centerpoint_PC/det3d/ops/iou3d_nms\n"
          ],
          "name": "stdout"
        }
      ]
    },
    {
      "cell_type": "code",
      "metadata": {
        "id": "POD8FUrS1mx-"
      },
      "source": [
        "!export PYTHONPATH='/content/CenterPoint'"
      ],
      "execution_count": null,
      "outputs": []
    },
    {
      "cell_type": "code",
      "metadata": {
        "id": "MjFBWW8k226R"
      },
      "source": [
        "!pip3 install terminaltables &> /dev/null\n",
        "!pip3 install addict &> /dev/null\n",
        "!pip3 install pyquaternion &> /dev/null"
      ],
      "execution_count": null,
      "outputs": []
    },
    {
      "cell_type": "code",
      "metadata": {
        "id": "hVnlXdYJca1U"
      },
      "source": [
        "!pip3 install pillow==6.1 &> /dev/null   # !pip3 install pillow --upgrade &> /dev/null ## Higher versions giving error "
      ],
      "execution_count": null,
      "outputs": []
    },
    {
      "cell_type": "code",
      "metadata": {
        "id": "FZqfKOI4P13q",
        "colab": {
          "base_uri": "https://localhost:8080/"
        },
        "outputId": "e81c570b-942e-47ea-8603-f12d6ab35783"
      },
      "source": [
        "!pip3 uninstall pillow\n",
        "!pip3 uninstall PIL"
      ],
      "execution_count": null,
      "outputs": [
        {
          "output_type": "stream",
          "text": [
            "Uninstalling Pillow-6.1.0:\n",
            "  Would remove:\n",
            "    /usr/local/lib/python3.7/dist-packages/PIL/*\n",
            "    /usr/local/lib/python3.7/dist-packages/Pillow-6.1.0.dist-info/*\n",
            "Proceed (y/n)? y\n",
            "  Successfully uninstalled Pillow-6.1.0\n",
            "\u001b[33mWARNING: Skipping PIL as it is not installed.\u001b[0m\n"
          ],
          "name": "stdout"
        }
      ]
    },
    {
      "cell_type": "code",
      "metadata": {
        "id": "4IATCJQJPPFa",
        "colab": {
          "base_uri": "https://localhost:8080/",
          "height": 224
        },
        "outputId": "12c0de12-fa67-4fd1-e95c-d0f376203cd6"
      },
      "source": [
        "!pip3 install Pillow   #==6.1"
      ],
      "execution_count": null,
      "outputs": [
        {
          "output_type": "stream",
          "text": [
            "Collecting Pillow\n",
            "\u001b[?25l  Downloading https://files.pythonhosted.org/packages/1f/6d/b719ae8e21660a6a962636896dc4b7d657ef451a3ab941516401846ac5cb/Pillow-8.1.2-cp37-cp37m-manylinux1_x86_64.whl (2.2MB)\n",
            "\r\u001b[K     |▏                               | 10kB 22.7MB/s eta 0:00:01\r\u001b[K     |▎                               | 20kB 29.6MB/s eta 0:00:01\r\u001b[K     |▍                               | 30kB 31.6MB/s eta 0:00:01\r\u001b[K     |▋                               | 40kB 35.5MB/s eta 0:00:01\r\u001b[K     |▊                               | 51kB 33.5MB/s eta 0:00:01\r\u001b[K     |▉                               | 61kB 35.8MB/s eta 0:00:01\r\u001b[K     |█                               | 71kB 23.5MB/s eta 0:00:01\r\u001b[K     |█▏                              | 81kB 23.1MB/s eta 0:00:01\r\u001b[K     |█▎                              | 92kB 20.7MB/s eta 0:00:01\r\u001b[K     |█▌                              | 102kB 21.4MB/s eta 0:00:01\r\u001b[K     |█▋                              | 112kB 21.4MB/s eta 0:00:01\r\u001b[K     |█▊                              | 122kB 21.4MB/s eta 0:00:01\r\u001b[K     |██                              | 133kB 21.4MB/s eta 0:00:01\r\u001b[K     |██                              | 143kB 21.4MB/s eta 0:00:01\r\u001b[K     |██▏                             | 153kB 21.4MB/s eta 0:00:01\r\u001b[K     |██▍                             | 163kB 21.4MB/s eta 0:00:01\r\u001b[K     |██▌                             | 174kB 21.4MB/s eta 0:00:01\r\u001b[K     |██▋                             | 184kB 21.4MB/s eta 0:00:01\r\u001b[K     |██▉                             | 194kB 21.4MB/s eta 0:00:01\r\u001b[K     |███                             | 204kB 21.4MB/s eta 0:00:01\r\u001b[K     |███                             | 215kB 21.4MB/s eta 0:00:01\r\u001b[K     |███▎                            | 225kB 21.4MB/s eta 0:00:01\r\u001b[K     |███▍                            | 235kB 21.4MB/s eta 0:00:01\r\u001b[K     |███▌                            | 245kB 21.4MB/s eta 0:00:01\r\u001b[K     |███▊                            | 256kB 21.4MB/s eta 0:00:01\r\u001b[K     |███▉                            | 266kB 21.4MB/s eta 0:00:01\r\u001b[K     |████                            | 276kB 21.4MB/s eta 0:00:01\r\u001b[K     |████▏                           | 286kB 21.4MB/s eta 0:00:01\r\u001b[K     |████▎                           | 296kB 21.4MB/s eta 0:00:01\r\u001b[K     |████▍                           | 307kB 21.4MB/s eta 0:00:01\r\u001b[K     |████▋                           | 317kB 21.4MB/s eta 0:00:01\r\u001b[K     |████▊                           | 327kB 21.4MB/s eta 0:00:01\r\u001b[K     |████▉                           | 337kB 21.4MB/s eta 0:00:01\r\u001b[K     |█████                           | 348kB 21.4MB/s eta 0:00:01\r\u001b[K     |█████▏                          | 358kB 21.4MB/s eta 0:00:01\r\u001b[K     |█████▎                          | 368kB 21.4MB/s eta 0:00:01\r\u001b[K     |█████▍                          | 378kB 21.4MB/s eta 0:00:01\r\u001b[K     |█████▋                          | 389kB 21.4MB/s eta 0:00:01\r\u001b[K     |█████▊                          | 399kB 21.4MB/s eta 0:00:01\r\u001b[K     |█████▉                          | 409kB 21.4MB/s eta 0:00:01\r\u001b[K     |██████                          | 419kB 21.4MB/s eta 0:00:01\r\u001b[K     |██████▏                         | 430kB 21.4MB/s eta 0:00:01\r\u001b[K     |██████▎                         | 440kB 21.4MB/s eta 0:00:01\r\u001b[K     |██████▌                         | 450kB 21.4MB/s eta 0:00:01\r\u001b[K     |██████▋                         | 460kB 21.4MB/s eta 0:00:01\r\u001b[K     |██████▊                         | 471kB 21.4MB/s eta 0:00:01\r\u001b[K     |███████                         | 481kB 21.4MB/s eta 0:00:01\r\u001b[K     |███████                         | 491kB 21.4MB/s eta 0:00:01\r\u001b[K     |███████▏                        | 501kB 21.4MB/s eta 0:00:01\r\u001b[K     |███████▍                        | 512kB 21.4MB/s eta 0:00:01\r\u001b[K     |███████▌                        | 522kB 21.4MB/s eta 0:00:01\r\u001b[K     |███████▋                        | 532kB 21.4MB/s eta 0:00:01\r\u001b[K     |███████▉                        | 542kB 21.4MB/s eta 0:00:01\r\u001b[K     |████████                        | 552kB 21.4MB/s eta 0:00:01\r\u001b[K     |████████                        | 563kB 21.4MB/s eta 0:00:01\r\u001b[K     |████████▎                       | 573kB 21.4MB/s eta 0:00:01\r\u001b[K     |████████▍                       | 583kB 21.4MB/s eta 0:00:01\r\u001b[K     |████████▌                       | 593kB 21.4MB/s eta 0:00:01\r\u001b[K     |████████▊                       | 604kB 21.4MB/s eta 0:00:01\r\u001b[K     |████████▉                       | 614kB 21.4MB/s eta 0:00:01\r\u001b[K     |█████████                       | 624kB 21.4MB/s eta 0:00:01\r\u001b[K     |█████████▏                      | 634kB 21.4MB/s eta 0:00:01\r\u001b[K     |█████████▎                      | 645kB 21.4MB/s eta 0:00:01\r\u001b[K     |█████████▍                      | 655kB 21.4MB/s eta 0:00:01\r\u001b[K     |█████████▋                      | 665kB 21.4MB/s eta 0:00:01\r\u001b[K     |█████████▊                      | 675kB 21.4MB/s eta 0:00:01\r\u001b[K     |█████████▉                      | 686kB 21.4MB/s eta 0:00:01\r\u001b[K     |██████████                      | 696kB 21.4MB/s eta 0:00:01\r\u001b[K     |██████████▏                     | 706kB 21.4MB/s eta 0:00:01\r\u001b[K     |██████████▎                     | 716kB 21.4MB/s eta 0:00:01\r\u001b[K     |██████████▌                     | 727kB 21.4MB/s eta 0:00:01\r\u001b[K     |██████████▋                     | 737kB 21.4MB/s eta 0:00:01\r\u001b[K     |██████████▊                     | 747kB 21.4MB/s eta 0:00:01\r\u001b[K     |██████████▉                     | 757kB 21.4MB/s eta 0:00:01\r\u001b[K     |███████████                     | 768kB 21.4MB/s eta 0:00:01\r\u001b[K     |███████████▏                    | 778kB 21.4MB/s eta 0:00:01\r\u001b[K     |███████████▎                    | 788kB 21.4MB/s eta 0:00:01\r\u001b[K     |███████████▌                    | 798kB 21.4MB/s eta 0:00:01\r\u001b[K     |███████████▋                    | 808kB 21.4MB/s eta 0:00:01\r\u001b[K     |███████████▊                    | 819kB 21.4MB/s eta 0:00:01\r\u001b[K     |████████████                    | 829kB 21.4MB/s eta 0:00:01\r\u001b[K     |████████████                    | 839kB 21.4MB/s eta 0:00:01\r\u001b[K     |████████████▏                   | 849kB 21.4MB/s eta 0:00:01\r\u001b[K     |████████████▍                   | 860kB 21.4MB/s eta 0:00:01\r\u001b[K     |████████████▌                   | 870kB 21.4MB/s eta 0:00:01\r\u001b[K     |████████████▋                   | 880kB 21.4MB/s eta 0:00:01\r\u001b[K     |████████████▉                   | 890kB 21.4MB/s eta 0:00:01\r\u001b[K     |█████████████                   | 901kB 21.4MB/s eta 0:00:01\r\u001b[K     |█████████████                   | 911kB 21.4MB/s eta 0:00:01\r\u001b[K     |█████████████▎                  | 921kB 21.4MB/s eta 0:00:01\r\u001b[K     |█████████████▍                  | 931kB 21.4MB/s eta 0:00:01\r\u001b[K     |█████████████▌                  | 942kB 21.4MB/s eta 0:00:01\r\u001b[K     |█████████████▊                  | 952kB 21.4MB/s eta 0:00:01\r\u001b[K     |█████████████▉                  | 962kB 21.4MB/s eta 0:00:01\r\u001b[K     |██████████████                  | 972kB 21.4MB/s eta 0:00:01\r\u001b[K     |██████████████▏                 | 983kB 21.4MB/s eta 0:00:01\r\u001b[K     |██████████████▎                 | 993kB 21.4MB/s eta 0:00:01\r\u001b[K     |██████████████▍                 | 1.0MB 21.4MB/s eta 0:00:01\r\u001b[K     |██████████████▋                 | 1.0MB 21.4MB/s eta 0:00:01\r\u001b[K     |██████████████▊                 | 1.0MB 21.4MB/s eta 0:00:01\r\u001b[K     |██████████████▉                 | 1.0MB 21.4MB/s eta 0:00:01\r\u001b[K     |███████████████                 | 1.0MB 21.4MB/s eta 0:00:01\r\u001b[K     |███████████████▏                | 1.1MB 21.4MB/s eta 0:00:01\r\u001b[K     |███████████████▎                | 1.1MB 21.4MB/s eta 0:00:01\r\u001b[K     |███████████████▌                | 1.1MB 21.4MB/s eta 0:00:01\r\u001b[K     |███████████████▋                | 1.1MB 21.4MB/s eta 0:00:01\r\u001b[K     |███████████████▊                | 1.1MB 21.4MB/s eta 0:00:01\r\u001b[K     |███████████████▉                | 1.1MB 21.4MB/s eta 0:00:01\r\u001b[K     |████████████████                | 1.1MB 21.4MB/s eta 0:00:01\r\u001b[K     |████████████████▏               | 1.1MB 21.4MB/s eta 0:00:01\r\u001b[K     |████████████████▎               | 1.1MB 21.4MB/s eta 0:00:01\r\u001b[K     |████████████████▌               | 1.1MB 21.4MB/s eta 0:00:01\r\u001b[K     |████████████████▋               | 1.2MB 21.4MB/s eta 0:00:01\r\u001b[K     |████████████████▊               | 1.2MB 21.4MB/s eta 0:00:01\r\u001b[K     |█████████████████               | 1.2MB 21.4MB/s eta 0:00:01\r\u001b[K     |█████████████████               | 1.2MB 21.4MB/s eta 0:00:01\r\u001b[K     |█████████████████▏              | 1.2MB 21.4MB/s eta 0:00:01\r\u001b[K     |█████████████████▍              | 1.2MB 21.4MB/s eta 0:00:01\r\u001b[K     |█████████████████▌              | 1.2MB 21.4MB/s eta 0:00:01\r\u001b[K     |█████████████████▋              | 1.2MB 21.4MB/s eta 0:00:01\r\u001b[K     |█████████████████▉              | 1.2MB 21.4MB/s eta 0:00:01\r\u001b[K     |██████████████████              | 1.2MB 21.4MB/s eta 0:00:01\r\u001b[K     |██████████████████              | 1.3MB 21.4MB/s eta 0:00:01\r\u001b[K     |██████████████████▎             | 1.3MB 21.4MB/s eta 0:00:01\r\u001b[K     |██████████████████▍             | 1.3MB 21.4MB/s eta 0:00:01\r\u001b[K     |██████████████████▌             | 1.3MB 21.4MB/s eta 0:00:01\r\u001b[K     |██████████████████▊             | 1.3MB 21.4MB/s eta 0:00:01\r\u001b[K     |██████████████████▉             | 1.3MB 21.4MB/s eta 0:00:01\r\u001b[K     |███████████████████             | 1.3MB 21.4MB/s eta 0:00:01\r\u001b[K     |███████████████████▏            | 1.3MB 21.4MB/s eta 0:00:01\r\u001b[K     |███████████████████▎            | 1.3MB 21.4MB/s eta 0:00:01\r\u001b[K     |███████████████████▍            | 1.4MB 21.4MB/s eta 0:00:01\r\u001b[K     |███████████████████▋            | 1.4MB 21.4MB/s eta 0:00:01\r\u001b[K     |███████████████████▊            | 1.4MB 21.4MB/s eta 0:00:01\r\u001b[K     |███████████████████▉            | 1.4MB 21.4MB/s eta 0:00:01\r\u001b[K     |████████████████████            | 1.4MB 21.4MB/s eta 0:00:01\r\u001b[K     |████████████████████▏           | 1.4MB 21.4MB/s eta 0:00:01\r\u001b[K     |████████████████████▎           | 1.4MB 21.4MB/s eta 0:00:01\r\u001b[K     |████████████████████▌           | 1.4MB 21.4MB/s eta 0:00:01\r\u001b[K     |████████████████████▋           | 1.4MB 21.4MB/s eta 0:00:01\r\u001b[K     |████████████████████▊           | 1.4MB 21.4MB/s eta 0:00:01\r\u001b[K     |█████████████████████           | 1.5MB 21.4MB/s eta 0:00:01\r\u001b[K     |█████████████████████           | 1.5MB 21.4MB/s eta 0:00:01\r\u001b[K     |█████████████████████▏          | 1.5MB 21.4MB/s eta 0:00:01\r\u001b[K     |█████████████████████▎          | 1.5MB 21.4MB/s eta 0:00:01\r\u001b[K     |█████████████████████▌          | 1.5MB 21.4MB/s eta 0:00:01\r\u001b[K     |█████████████████████▋          | 1.5MB 21.4MB/s eta 0:00:01\r\u001b[K     |█████████████████████▊          | 1.5MB 21.4MB/s eta 0:00:01\r\u001b[K     |██████████████████████          | 1.5MB 21.4MB/s eta 0:00:01\r\u001b[K     |██████████████████████          | 1.5MB 21.4MB/s eta 0:00:01\r\u001b[K     |██████████████████████▏         | 1.5MB 21.4MB/s eta 0:00:01\r\u001b[K     |██████████████████████▍         | 1.6MB 21.4MB/s eta 0:00:01\r\u001b[K     |██████████████████████▌         | 1.6MB 21.4MB/s eta 0:00:01\r\u001b[K     |██████████████████████▋         | 1.6MB 21.4MB/s eta 0:00:01\r\u001b[K     |██████████████████████▉         | 1.6MB 21.4MB/s eta 0:00:01\r\u001b[K     |███████████████████████         | 1.6MB 21.4MB/s eta 0:00:01\r\u001b[K     |███████████████████████         | 1.6MB 21.4MB/s eta 0:00:01\r\u001b[K     |███████████████████████▎        | 1.6MB 21.4MB/s eta 0:00:01\r\u001b[K     |███████████████████████▍        | 1.6MB 21.4MB/s eta 0:00:01\r\u001b[K     |███████████████████████▌        | 1.6MB 21.4MB/s eta 0:00:01\r\u001b[K     |███████████████████████▊        | 1.6MB 21.4MB/s eta 0:00:01\r\u001b[K     |███████████████████████▉        | 1.7MB 21.4MB/s eta 0:00:01\r\u001b[K     |████████████████████████        | 1.7MB 21.4MB/s eta 0:00:01\r\u001b[K     |████████████████████████▏       | 1.7MB 21.4MB/s eta 0:00:01\r\u001b[K     |████████████████████████▎       | 1.7MB 21.4MB/s eta 0:00:01\r\u001b[K     |████████████████████████▍       | 1.7MB 21.4MB/s eta 0:00:01\r\u001b[K     |████████████████████████▋       | 1.7MB 21.4MB/s eta 0:00:01\r\u001b[K     |████████████████████████▊       | 1.7MB 21.4MB/s eta 0:00:01\r\u001b[K     |████████████████████████▉       | 1.7MB 21.4MB/s eta 0:00:01\r\u001b[K     |█████████████████████████       | 1.7MB 21.4MB/s eta 0:00:01\r\u001b[K     |█████████████████████████▏      | 1.8MB 21.4MB/s eta 0:00:01\r\u001b[K     |█████████████████████████▎      | 1.8MB 21.4MB/s eta 0:00:01\r\u001b[K     |█████████████████████████▌      | 1.8MB 21.4MB/s eta 0:00:01\r\u001b[K     |█████████████████████████▋      | 1.8MB 21.4MB/s eta 0:00:01\r\u001b[K     |█████████████████████████▊      | 1.8MB 21.4MB/s eta 0:00:01\r\u001b[K     |██████████████████████████      | 1.8MB 21.4MB/s eta 0:00:01\r\u001b[K     |██████████████████████████      | 1.8MB 21.4MB/s eta 0:00:01\r\u001b[K     |██████████████████████████▏     | 1.8MB 21.4MB/s eta 0:00:01\r\u001b[K     |██████████████████████████▍     | 1.8MB 21.4MB/s eta 0:00:01\r\u001b[K     |██████████████████████████▌     | 1.8MB 21.4MB/s eta 0:00:01\r\u001b[K     |██████████████████████████▋     | 1.9MB 21.4MB/s eta 0:00:01\r\u001b[K     |██████████████████████████▊     | 1.9MB 21.4MB/s eta 0:00:01\r\u001b[K     |███████████████████████████     | 1.9MB 21.4MB/s eta 0:00:01\r\u001b[K     |███████████████████████████     | 1.9MB 21.4MB/s eta 0:00:01\r\u001b[K     |███████████████████████████▏    | 1.9MB 21.4MB/s eta 0:00:01\r\u001b[K     |███████████████████████████▍    | 1.9MB 21.4MB/s eta 0:00:01\r\u001b[K     |███████████████████████████▌    | 1.9MB 21.4MB/s eta 0:00:01\r\u001b[K     |███████████████████████████▋    | 1.9MB 21.4MB/s eta 0:00:01\r\u001b[K     |███████████████████████████▉    | 1.9MB 21.4MB/s eta 0:00:01\r\u001b[K     |████████████████████████████    | 1.9MB 21.4MB/s eta 0:00:01\r\u001b[K     |████████████████████████████    | 2.0MB 21.4MB/s eta 0:00:01\r\u001b[K     |████████████████████████████▎   | 2.0MB 21.4MB/s eta 0:00:01\r\u001b[K     |████████████████████████████▍   | 2.0MB 21.4MB/s eta 0:00:01\r\u001b[K     |████████████████████████████▌   | 2.0MB 21.4MB/s eta 0:00:01\r\u001b[K     |████████████████████████████▊   | 2.0MB 21.4MB/s eta 0:00:01\r\u001b[K     |████████████████████████████▉   | 2.0MB 21.4MB/s eta 0:00:01\r\u001b[K     |█████████████████████████████   | 2.0MB 21.4MB/s eta 0:00:01\r\u001b[K     |█████████████████████████████▏  | 2.0MB 21.4MB/s eta 0:00:01\r\u001b[K     |█████████████████████████████▎  | 2.0MB 21.4MB/s eta 0:00:01\r\u001b[K     |█████████████████████████████▍  | 2.0MB 21.4MB/s eta 0:00:01\r\u001b[K     |█████████████████████████████▋  | 2.1MB 21.4MB/s eta 0:00:01\r\u001b[K     |█████████████████████████████▊  | 2.1MB 21.4MB/s eta 0:00:01\r\u001b[K     |█████████████████████████████▉  | 2.1MB 21.4MB/s eta 0:00:01\r\u001b[K     |██████████████████████████████  | 2.1MB 21.4MB/s eta 0:00:01\r\u001b[K     |██████████████████████████████▏ | 2.1MB 21.4MB/s eta 0:00:01\r\u001b[K     |██████████████████████████████▎ | 2.1MB 21.4MB/s eta 0:00:01\r\u001b[K     |██████████████████████████████▌ | 2.1MB 21.4MB/s eta 0:00:01\r\u001b[K     |██████████████████████████████▋ | 2.1MB 21.4MB/s eta 0:00:01\r\u001b[K     |██████████████████████████████▊ | 2.1MB 21.4MB/s eta 0:00:01\r\u001b[K     |███████████████████████████████ | 2.2MB 21.4MB/s eta 0:00:01\r\u001b[K     |███████████████████████████████ | 2.2MB 21.4MB/s eta 0:00:01\r\u001b[K     |███████████████████████████████▏| 2.2MB 21.4MB/s eta 0:00:01\r\u001b[K     |███████████████████████████████▍| 2.2MB 21.4MB/s eta 0:00:01\r\u001b[K     |███████████████████████████████▌| 2.2MB 21.4MB/s eta 0:00:01\r\u001b[K     |███████████████████████████████▋| 2.2MB 21.4MB/s eta 0:00:01\r\u001b[K     |███████████████████████████████▊| 2.2MB 21.4MB/s eta 0:00:01\r\u001b[K     |████████████████████████████████| 2.2MB 21.4MB/s eta 0:00:01\r\u001b[K     |████████████████████████████████| 2.2MB 21.4MB/s \n",
            "\u001b[31mERROR: albumentations 0.1.12 has requirement imgaug<0.2.7,>=0.2.5, but you'll have imgaug 0.2.9 which is incompatible.\u001b[0m\n",
            "\u001b[?25hInstalling collected packages: Pillow\n",
            "Successfully installed Pillow-8.1.2\n"
          ],
          "name": "stdout"
        },
        {
          "output_type": "display_data",
          "data": {
            "application/vnd.colab-display-data+json": {
              "pip_warning": {
                "packages": [
                  "PIL"
                ]
              }
            }
          },
          "metadata": {
            "tags": []
          }
        }
      ]
    },
    {
      "cell_type": "code",
      "metadata": {
        "id": "lU2tFo3EEs4B",
        "colab": {
          "base_uri": "https://localhost:8080/"
        },
        "outputId": "2ccfc1c2-1bbf-4915-c491-95f1ecda8bf4"
      },
      "source": [
        "%cd /content/CenterPoint/"
      ],
      "execution_count": null,
      "outputs": [
        {
          "output_type": "stream",
          "text": [
            "/content/Centerpoint_PC\n"
          ],
          "name": "stdout"
        }
      ]
    },
    {
      "cell_type": "code",
      "metadata": {
        "id": "5AfHnCULA1tp"
      },
      "source": [
        "##Checking importing of  det3d in the main folder \n",
        "import det3d\n",
        "from det3d import torchie"
      ],
      "execution_count": null,
      "outputs": []
    },
    {
      "cell_type": "code",
      "metadata": {
        "id": "-ViuTcJh2FfB",
        "colab": {
          "base_uri": "https://localhost:8080/"
        },
        "outputId": "dda1fc18-a88a-4241-8d96-de78abf7956d"
      },
      "source": [
        "%cd /content/CenterPoint/tools"
      ],
      "execution_count": null,
      "outputs": [
        {
          "output_type": "stream",
          "text": [
            "/content/Centerpoint_PC/tools\n"
          ],
          "name": "stdout"
        }
      ]
    },
    {
      "cell_type": "code",
      "metadata": {
        "id": "wygrZeBUFd3t"
      },
      "source": [
        "##Checking importing of  det3d in the main folder \n",
        "import det3d\n",
        "from det3d import torchie\n"
      ],
      "execution_count": null,
      "outputs": []
    },
    {
      "cell_type": "code",
      "metadata": {
        "id": "PxTIqM6ajLPq"
      },
      "source": [
        "!export PYTHONPATH='/content/CenterPoint/det3d/ops/iou3d_nms/'"
      ],
      "execution_count": null,
      "outputs": []
    },
    {
      "cell_type": "code",
      "metadata": {
        "id": "b5OujBrnHDfI"
      },
      "source": [
        "###Installing nuscenes devkit \n",
        "!pip3 install nuscenes-devkit &> /dev/null"
      ],
      "execution_count": null,
      "outputs": []
    },
    {
      "cell_type": "code",
      "metadata": {
        "id": "Pt3OSfyUQ7Km"
      },
      "source": [
        "import det3d\n",
        "from det3d.ops import iou3d_nms\n"
      ],
      "execution_count": null,
      "outputs": []
    },
    {
      "cell_type": "code",
      "metadata": {
        "id": "qyyp5Xxv4XL-"
      },
      "source": [
        "!ls"
      ],
      "execution_count": null,
      "outputs": []
    },
    {
      "cell_type": "code",
      "metadata": {
        "id": "9JNMwUNK4zgj"
      },
      "source": [
        "####Command to create data of nuscenes in pickle format \n",
        "\n",
        "!python3 create_data.py nuscenes_data_prep \\\n",
        "--root_path=/content/drive/MyDrive/PointCloudData/nusc \\\n",
        "--version=\"v1.0-mini\" --nsweeps=10"
      ],
      "execution_count": null,
      "outputs": []
    },
    {
      "cell_type": "code",
      "metadata": {
        "id": "4xwLPSINkuy9"
      },
      "source": [
        "!python3 dist_test.py \\\n",
        "/content/CenterPoint_PC/configs/nusc/voxelnet/nusc_centerpoint_voxelnet_0075voxel_dcn_flip.py  \\\n",
        "--work_dir /content/drive/MyDrive/PointCloud_model/centerpoint_nusc/nusc_centerpoint_voxelnet_dcn_0075voxel_flip \\\n",
        "--checkpoint /content/drive/MyDrive/PointCloud_model/centerpoint_nusc/voxelnet_converted.pth --speed_test --testset"
      ],
      "execution_count": null,
      "outputs": []
    },
    {
      "cell_type": "code",
      "metadata": {
        "id": "Xk5jajB8bgRO"
      },
      "source": [
        "!python3 dist_test_demo.py \\\n",
        "/content/CenterPoint_PC/configs/nusc/voxelnet/nusc_centerpoint_voxelnet_0075voxel_dcn_flip.py  \\\n",
        "--work_dir /content/drive/MyDrive/PointCloud_model/centerpoint_nusc/nusc_centerpoint_voxelnet_dcn_0075voxel_flip \\\n",
        "--checkpoint /content/drive/MyDrive/PointCloud_model/centerpoint_nusc/voxelnet_converted.pth --speed_test --testset"
      ],
      "execution_count": null,
      "outputs": []
    },
    {
      "cell_type": "markdown",
      "metadata": {
        "id": "5qNgU-6fzhSn"
      },
      "source": [
        ""
      ]
    }
  ]
}